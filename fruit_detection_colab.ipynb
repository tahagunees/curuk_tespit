{
 "cells": [
  {
   "cell_type": "markdown",
   "metadata": {},
   "source": [
    "# Fruit Detection Project - Google Colab Setup"
   ]
  },
  {
   "cell_type": "code",
   "execution_count": null,
   "metadata": {},
   "source": [
    "# Google Drive'a Bağlanma\n",
    "from google.colab import drive\n",
    "drive.mount('/content/drive')"
   ]
  },
  {
   "cell_type": "code",
   "execution_count": null,
   "metadata": {},
   "source": [
    "# Gerekli kütüphanelerin kurulumu\n",
    "!pip install -r /content/drive/MyDrive/fruit-detect/requirements.txt"
   ]
  },
  {
   "cell_type": "code",
   "execution_count": null,
   "metadata": {},
   "source": [
    "# Proje dizinine geçiş\n",
    "%cd /content/drive/MyDrive/fruit-detect"
   ]
  },
  {
   "cell_type": "code",
   "execution_count": null,
   "metadata": {},
   "source": [
    "# Eğitim ve Çıkarım İşlemleri\n",
    "from ultralytics import YOLO\n",
    "\n",
    "# Model yükleme\n",
    "model = YOLO('yolov8s.pt')\n",
    "\n",
    "# Eğitim\n",
    "results = model.train(data='dataset/data.yaml', epochs=50, imgsz=640)"
   ]
  }
 ],
 "metadata": {
  "kernelspec": {
   "display_name": "Python 3",
   "language": "python",
   "name": "python3"
  }
 },
 "nbformat": 4,
 "nbformat_minor": 2
}
